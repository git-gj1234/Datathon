{
 "cells": [
  {
   "cell_type": "code",
   "execution_count": null,
   "metadata": {},
   "outputs": [],
   "source": [
    "#library imports\n",
    "#you can import any libraries you want here."
   ]
  },
  {
   "cell_type": "markdown",
   "metadata": {},
   "source": [
    "Please read the entire document carefully before writing your code"
   ]
  },
  {
   "cell_type": "code",
   "execution_count": 2,
   "metadata": {},
   "outputs": [],
   "source": [
    "#Participants are expected to complete the folowing predict function.\n",
    "#We will be evaluating your model through the predict function. We will pass our own list of magic words to your predict function and you are expected to \n",
    "#return a list of the corresponding power levels. \n",
    "#We will then compare your list to the correct expected answers.\n",
    "\n",
    "def predict(magic_word_list):\n",
    "    #input: list of magic words.\n",
    "    #output: corresponding list of power Levels\n",
    "    \n",
    "    ##############################################################\n",
    "    #your code goes here\n",
    "    ##############################################################\n",
    "\n",
    "    predicted_classes_list = None # you are expected to return the classes here.\n",
    "    return predicted_classes_list"
   ]
  },
  {
   "cell_type": "code",
   "execution_count": 3,
   "metadata": {},
   "outputs": [],
   "source": [
    "#MAIN CODE\n",
    "\n",
    "#we will run your predict function only and compare your output list with the \n",
    "#correct answers. Please follow the same format.\n",
    "\n",
    "#sample input: we will use our test case list here.\n",
    "magic_word_list = [\"sampleword1\", \"sampleword2\", \"sampleword3\"] \n",
    "\n",
    "#sample output: amnd function call\n",
    "returned_classes = predict(magic_word_list)\n",
    "\n",
    "print(returned_classes)\n"
   ]
  },
  {
   "cell_type": "markdown",
   "metadata": {},
   "source": [
    "sample output :\n",
    "[2,0,1]"
   ]
  }
 ],
 "metadata": {
  "kernelspec": {
   "display_name": "cuda_compute",
   "language": "python",
   "name": "python3"
  },
  "language_info": {
   "codemirror_mode": {
    "name": "ipython",
    "version": 3
   },
   "file_extension": ".py",
   "mimetype": "text/x-python",
   "name": "python",
   "nbconvert_exporter": "python",
   "pygments_lexer": "ipython3",
   "version": "3.9.18"
  }
 },
 "nbformat": 4,
 "nbformat_minor": 2
}
