{
 "cells": [
  {
   "cell_type": "markdown",
   "metadata": {},
   "source": [
    "Welcome to round 2 of the Datathon.\n",
    "Here we have a set of 3 classes of images- namely images of hills, images of the ocean\n",
    "and images of icy lands. Given an image can you predict which of these classes it belong to ?"
   ]
  },
  {
   "cell_type": "markdown",
   "metadata": {},
   "source": [
    "Please read the entire document carefully before writing your code"
   ]
  },
  {
   "cell_type": "code",
   "execution_count": null,
   "metadata": {},
   "outputs": [],
   "source": [
    "#library imports\n",
    "#you can import any libraries you want here."
   ]
  },
  {
   "cell_type": "code",
   "execution_count": null,
   "metadata": {},
   "outputs": [],
   "source": [
    "#participants are expected to complete the following function.\n",
    "#This function expects the path of a single image as input and returns a string - the class of the image as output in ALL lowercase.\n",
    "#you may use additonal utility functions as well.\n",
    "def predict(image_path):\n",
    "\n",
    "    #input: path of image to be evaluated\n",
    "    #output: corresponding class of the image in lowercase\n",
    "    \n",
    "    ##############################################################\n",
    "    #your code goes here\n",
    "    ##############################################################\n",
    "\n",
    "    class_of_image = None # you are expected to return the class name here.\n",
    "    return class_of_image"
   ]
  },
  {
   "cell_type": "code",
   "execution_count": null,
   "metadata": {},
   "outputs": [],
   "source": [
    "#MAIN CODE\n",
    "\n",
    "#we will run your predict function only and compare your output string with the \n",
    "#correct answer. Please follow the same format.\n",
    "\n",
    "#sample input: we will use our test case list here.\n",
    "image_test= \"image1.jpg\"\n",
    "\n",
    "#sample output: amnd function call\n",
    "returned_class = predict(image_test)\n",
    "\n",
    "print(returned_class)"
   ]
  }
 ],
 "metadata": {
  "language_info": {
   "name": "python"
  }
 },
 "nbformat": 4,
 "nbformat_minor": 2
}
